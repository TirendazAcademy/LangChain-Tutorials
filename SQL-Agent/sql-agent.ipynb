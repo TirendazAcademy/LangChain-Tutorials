{
 "cells": [
  {
   "cell_type": "code",
   "execution_count": 1,
   "metadata": {},
   "outputs": [
    {
     "data": {
      "text/plain": [
       "True"
      ]
     },
     "execution_count": 1,
     "metadata": {},
     "output_type": "execute_result"
    }
   ],
   "source": [
    "from dotenv import load_dotenv\n",
    "\n",
    "load_dotenv()"
   ]
  },
  {
   "cell_type": "code",
   "execution_count": 2,
   "metadata": {},
   "outputs": [],
   "source": [
    "from langchain_community.utilities.sql_database import SQLDatabase\n",
    "\n",
    "db = SQLDatabase.from_uri(\"sqlite:///my_demo.db\")"
   ]
  },
  {
   "cell_type": "code",
   "execution_count": 3,
   "metadata": {},
   "outputs": [],
   "source": [
    "from langchain_community.agent_toolkits import create_sql_agent\n",
    "from langchain_openai import ChatOpenAI\n",
    "\n",
    "llm = ChatOpenAI(model=\"gpt-3.5-turbo\", temperature=0)\n",
    "agent_executor = create_sql_agent(llm, db=db, agent_type=\"openai-tools\", verbose=True)"
   ]
  },
  {
   "cell_type": "code",
   "execution_count": 5,
   "metadata": {},
   "outputs": [
    {
     "name": "stdout",
     "output_type": "stream",
     "text": [
      "\n",
      "\n",
      "\u001b[1m> Entering new SQL Agent Executor chain...\u001b[0m\n",
      "\u001b[32;1m\u001b[1;3m\n",
      "Invoking: `sql_db_list_tables` with `{'tool_input': ''}`\n",
      "\n",
      "\n",
      "\u001b[0m\u001b[38;5;200m\u001b[1;3mdept, emp\u001b[0m\u001b[32;1m\u001b[1;3m\n",
      "Invoking: `sql_db_schema` with `{'table_names': 'emp'}`\n",
      "\n",
      "\n",
      "\u001b[0m\u001b[33;1m\u001b[1;3m\n",
      "CREATE TABLE emp (\n",
      "\tempno DECIMAL(4, 0) NOT NULL, \n",
      "\tename VARCHAR(10) DEFAULT NULL, \n",
      "\tjob VARCHAR(9) DEFAULT NULL, \n",
      "\tmgr DECIMAL(4, 0) DEFAULT NULL, \n",
      "\thiredate DATE DEFAULT NULL, \n",
      "\tsal DECIMAL(7, 2) DEFAULT NULL, \n",
      "\tcomm DECIMAL(7, 2) DEFAULT NULL, \n",
      "\tdeptno DECIMAL(2, 0) DEFAULT NULL\n",
      ")\n",
      "\n",
      "/*\n",
      "3 rows from emp table:\n",
      "empno\tename\tjob\tmgr\thiredate\tsal\tcomm\tdeptno\n",
      "7369\tSMITH\tCLERK\t7902\t1980-12-17\t800.00\tNone\t20\n",
      "7499\tALLEN\tSALESMAN\t7698\t1981-02-20\t1600.00\t300.00\t30\n",
      "7521\tWARD\tSALESMAN\t7698\t1981-02-22\t1250.00\t500.00\t30\n",
      "*/\u001b[0m\u001b[32;1m\u001b[1;3m\n",
      "Invoking: `sql_db_query` with `{'query': 'SELECT COUNT(*) AS row_count FROM emp'}`\n",
      "\n",
      "\n",
      "\u001b[0m\u001b[36;1m\u001b[1;3m[(14,)]\u001b[0m\u001b[32;1m\u001b[1;3mThere are 14 rows in the emp table.\u001b[0m\n",
      "\n",
      "\u001b[1m> Finished chain.\u001b[0m\n"
     ]
    },
    {
     "data": {
      "text/plain": [
       "{'input': 'How many rows are there in the emp table?',\n",
       " 'output': 'There are 14 rows in the emp table.'}"
      ]
     },
     "execution_count": 5,
     "metadata": {},
     "output_type": "execute_result"
    }
   ],
   "source": [
    "agent_executor.invoke(\n",
    "    \"How many rows are there in the emp table?\"\n",
    ")"
   ]
  },
  {
   "cell_type": "code",
   "execution_count": 6,
   "metadata": {},
   "outputs": [
    {
     "name": "stdout",
     "output_type": "stream",
     "text": [
      "\n",
      "\n",
      "\u001b[1m> Entering new SQL Agent Executor chain...\u001b[0m\n",
      "\u001b[32;1m\u001b[1;3m\n",
      "Invoking: `sql_db_list_tables` with `{'tool_input': ''}`\n",
      "\n",
      "\n",
      "\u001b[0m\u001b[38;5;200m\u001b[1;3mdept, emp\u001b[0m\u001b[32;1m\u001b[1;3m\n",
      "Invoking: `sql_db_schema` with `{'table_names': 'emp'}`\n",
      "\n",
      "\n",
      "\u001b[0m\u001b[33;1m\u001b[1;3m\n",
      "CREATE TABLE emp (\n",
      "\tempno DECIMAL(4, 0) NOT NULL, \n",
      "\tename VARCHAR(10) DEFAULT NULL, \n",
      "\tjob VARCHAR(9) DEFAULT NULL, \n",
      "\tmgr DECIMAL(4, 0) DEFAULT NULL, \n",
      "\thiredate DATE DEFAULT NULL, \n",
      "\tsal DECIMAL(7, 2) DEFAULT NULL, \n",
      "\tcomm DECIMAL(7, 2) DEFAULT NULL, \n",
      "\tdeptno DECIMAL(2, 0) DEFAULT NULL\n",
      ")\n",
      "\n",
      "/*\n",
      "3 rows from emp table:\n",
      "empno\tename\tjob\tmgr\thiredate\tsal\tcomm\tdeptno\n",
      "7369\tSMITH\tCLERK\t7902\t1980-12-17\t800.00\tNone\t20\n",
      "7499\tALLEN\tSALESMAN\t7698\t1981-02-20\t1600.00\t300.00\t30\n",
      "7521\tWARD\tSALESMAN\t7698\t1981-02-22\t1250.00\t500.00\t30\n",
      "*/\u001b[0m\u001b[32;1m\u001b[1;3m\n",
      "Invoking: `sql_db_schema` with `{'table_names': 'dept'}`\n",
      "\n",
      "\n",
      "\u001b[0m\u001b[33;1m\u001b[1;3m\n",
      "CREATE TABLE dept (\n",
      "\tdeptno DECIMAL(2, 0) DEFAULT NULL, \n",
      "\tdname VARCHAR(14) DEFAULT NULL, \n",
      "\tloc VARCHAR(13) DEFAULT NULL\n",
      ")\n",
      "\n",
      "/*\n",
      "3 rows from dept table:\n",
      "deptno\tdname\tloc\n",
      "10\tACCOUNTING\tNEW YORK\n",
      "20\tRESEARCH\tDALLAS\n",
      "30\tSALES\tCHICAGO\n",
      "*/\u001b[0m\u001b[32;1m\u001b[1;3m\n",
      "Invoking: `sql_db_query` with `{'query': \"SELECT ename FROM emp WHERE deptno = (SELECT deptno FROM dept WHERE dname = 'ACCOUNTING' AND loc = 'NEW YORK')\"}`\n",
      "responded: Based on the schema of the tables in the database, I can see that the \"emp\" table contains information about employees, including their names, job titles, salaries, and department numbers. The \"dept\" table contains information about departments, including department names and locations.\n",
      "\n",
      "To find information about people working in New York, I can query the \"emp\" table to retrieve the names of employees working in the \"ACCOUNTING\" department located in \"NEW YORK\".\n",
      "\n",
      "I will now construct a query to find people working in New York.\n",
      "\n",
      "\u001b[0m\u001b[36;1m\u001b[1;3m[('CLARK',), ('KING',), ('MILLER',)]\u001b[0m\u001b[32;1m\u001b[1;3mThe people working in New York in the \"ACCOUNTING\" department are:\n",
      "1. Clark\n",
      "2. King\n",
      "3. Miller\u001b[0m\n",
      "\n",
      "\u001b[1m> Finished chain.\u001b[0m\n"
     ]
    },
    {
     "data": {
      "text/plain": [
       "{'input': 'Tell me about people working in New York',\n",
       " 'output': 'The people working in New York in the \"ACCOUNTING\" department are:\\n1. Clark\\n2. King\\n3. Miller'}"
      ]
     },
     "execution_count": 6,
     "metadata": {},
     "output_type": "execute_result"
    }
   ],
   "source": [
    "agent_executor.invoke(\n",
    "    \"Tell me about people working in New York\"\n",
    ")"
   ]
  },
  {
   "cell_type": "code",
   "execution_count": 7,
   "metadata": {},
   "outputs": [
    {
     "name": "stdout",
     "output_type": "stream",
     "text": [
      "\n",
      "\n",
      "\u001b[1m> Entering new SQL Agent Executor chain...\u001b[0m\n",
      "\u001b[32;1m\u001b[1;3m\n",
      "Invoking: `sql_db_list_tables` with `{'tool_input': ''}`\n",
      "\n",
      "\n",
      "\u001b[0m\u001b[38;5;200m\u001b[1;3mdept, emp\u001b[0m\u001b[32;1m\u001b[1;3m\n",
      "Invoking: `sql_db_schema` with `{'table_names': 'emp'}`\n",
      "\n",
      "\n",
      "\u001b[0m\u001b[33;1m\u001b[1;3m\n",
      "CREATE TABLE emp (\n",
      "\tempno DECIMAL(4, 0) NOT NULL, \n",
      "\tename VARCHAR(10) DEFAULT NULL, \n",
      "\tjob VARCHAR(9) DEFAULT NULL, \n",
      "\tmgr DECIMAL(4, 0) DEFAULT NULL, \n",
      "\thiredate DATE DEFAULT NULL, \n",
      "\tsal DECIMAL(7, 2) DEFAULT NULL, \n",
      "\tcomm DECIMAL(7, 2) DEFAULT NULL, \n",
      "\tdeptno DECIMAL(2, 0) DEFAULT NULL\n",
      ")\n",
      "\n",
      "/*\n",
      "3 rows from emp table:\n",
      "empno\tename\tjob\tmgr\thiredate\tsal\tcomm\tdeptno\n",
      "7369\tSMITH\tCLERK\t7902\t1980-12-17\t800.00\tNone\t20\n",
      "7499\tALLEN\tSALESMAN\t7698\t1981-02-20\t1600.00\t300.00\t30\n",
      "7521\tWARD\tSALESMAN\t7698\t1981-02-22\t1250.00\t500.00\t30\n",
      "*/\u001b[0m\u001b[32;1m\u001b[1;3m\n",
      "Invoking: `sql_db_query` with `{'query': 'SELECT AVG(sal) AS average_salary FROM emp WHERE deptno = 20'}`\n",
      "\n",
      "\n",
      "\u001b[0m\u001b[36;1m\u001b[1;3m[(2175.0,)]\u001b[0m\u001b[32;1m\u001b[1;3mThe average salary of employees in Chicago (deptno = 20) is $2175.00.\u001b[0m\n",
      "\n",
      "\u001b[1m> Finished chain.\u001b[0m\n"
     ]
    },
    {
     "data": {
      "text/plain": [
       "{'input': 'What is the average salary of employees in Chicago?',\n",
       " 'output': 'The average salary of employees in Chicago (deptno = 20) is $2175.00.'}"
      ]
     },
     "execution_count": 7,
     "metadata": {},
     "output_type": "execute_result"
    }
   ],
   "source": [
    "agent_executor.invoke(\n",
    "    \"What is the average salary of employees in Chicago?\"\n",
    ")"
   ]
  },
  {
   "cell_type": "markdown",
   "metadata": {},
   "source": [
    "Let's connect [YouTube](http://youtube.com/tirendazacademy) | [Medium](http://tirendazacademy.medium.com) | [X](http://x.com/tirendazacademy) | [Linkedin](https://www.linkedin.com/in/tirendaz-academy) 😎"
   ]
  }
 ],
 "metadata": {
  "kernelspec": {
   "display_name": "genai",
   "language": "python",
   "name": "python3"
  },
  "language_info": {
   "codemirror_mode": {
    "name": "ipython",
    "version": 3
   },
   "file_extension": ".py",
   "mimetype": "text/x-python",
   "name": "python",
   "nbconvert_exporter": "python",
   "pygments_lexer": "ipython3",
   "version": "3.11.8"
  }
 },
 "nbformat": 4,
 "nbformat_minor": 2
}
