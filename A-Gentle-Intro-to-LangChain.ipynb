{
  "nbformat": 4,
  "nbformat_minor": 0,
  "metadata": {
    "colab": {
      "provenance": [],
      "authorship_tag": "ABX9TyPSEIyI6+A7Q2yj360qdARd",
      "include_colab_link": true
    },
    "kernelspec": {
      "name": "python3",
      "display_name": "Python 3"
    },
    "language_info": {
      "name": "python"
    }
  },
  "cells": [
    {
      "cell_type": "markdown",
      "metadata": {
        "id": "view-in-github",
        "colab_type": "text"
      },
      "source": [
        "<a href=\"https://colab.research.google.com/github/TirendazAcademy/LangChain-Tutorials/blob/main/A-Gentle-Intro-to-LangChain.ipynb\" target=\"_parent\"><img src=\"https://colab.research.google.com/assets/colab-badge.svg\" alt=\"Open In Colab\"/></a>"
      ]
    },
    {
      "cell_type": "markdown",
      "source": [
        "# Installation"
      ],
      "metadata": {
        "id": "DrueKvwYZvVM"
      }
    },
    {
      "cell_type": "code",
      "execution_count": 1,
      "metadata": {
        "id": "5uc9A7WP7gQx"
      },
      "outputs": [],
      "source": [
        "!pip install -q langchain\n",
        "!pip install -q openai"
      ]
    },
    {
      "cell_type": "markdown",
      "source": [
        "# Environment Setup"
      ],
      "metadata": {
        "id": "mWJrFgzyZzHy"
      }
    },
    {
      "cell_type": "code",
      "source": [
        "import os\n",
        "os.environ[\"OPENAI_API_KEY\"]=\"Your-API-Key\""
      ],
      "metadata": {
        "id": "y8cKMsGA8ZVp"
      },
      "execution_count": 2,
      "outputs": []
    },
    {
      "cell_type": "markdown",
      "source": [
        "# Building a Language Model Application"
      ],
      "metadata": {
        "id": "AgBeqAqxZ4tA"
      }
    },
    {
      "cell_type": "code",
      "source": [
        "from langchain.llms import OpenAI"
      ],
      "metadata": {
        "id": "rQfOeXbD882O"
      },
      "execution_count": 3,
      "outputs": []
    },
    {
      "cell_type": "code",
      "source": [
        "llm = OpenAI(temperature=0.7)"
      ],
      "metadata": {
        "id": "5bi0W54KH8nS"
      },
      "execution_count": 4,
      "outputs": []
    },
    {
      "cell_type": "code",
      "source": [
        "text = \"what are the 5 most expensive capital cities?\""
      ],
      "metadata": {
        "id": "zkPDSnBWID7D"
      },
      "execution_count": 5,
      "outputs": []
    },
    {
      "cell_type": "code",
      "source": [
        "print(llm(text))"
      ],
      "metadata": {
        "colab": {
          "base_uri": "https://localhost:8080/"
        },
        "id": "OaxHKf6yIOSq",
        "outputId": "b2b78f51-6dd9-484e-e571-703e5b70be7e"
      },
      "execution_count": 6,
      "outputs": [
        {
          "output_type": "stream",
          "name": "stdout",
          "text": [
            "\n",
            "\n",
            "1. Tokyo, Japan\n",
            "2. Beijing, China\n",
            "3. Singapore\n",
            "4. Zurich, Switzerland\n",
            "5. Hong Kong, China\n"
          ]
        }
      ]
    },
    {
      "cell_type": "code",
      "source": [
        "llm_1 = OpenAI(model_name=\"gpt-3.5-turbo\")"
      ],
      "metadata": {
        "id": "ccY2Pm5MIX-7"
      },
      "execution_count": null,
      "outputs": []
    },
    {
      "cell_type": "code",
      "source": [
        "print(llm_1(\"Tell me a joke\"))"
      ],
      "metadata": {
        "colab": {
          "base_uri": "https://localhost:8080/"
        },
        "id": "4-vtyaxqIt9N",
        "outputId": "213d117e-e3dd-46c7-d28a-91c66bd95f33"
      },
      "execution_count": 8,
      "outputs": [
        {
          "output_type": "stream",
          "name": "stdout",
          "text": [
            "Why don't scientists trust atoms?  \n",
            "Because they make up everything!\n"
          ]
        }
      ]
    },
    {
      "cell_type": "markdown",
      "source": [
        "# Prompt Templates & Chains"
      ],
      "metadata": {
        "id": "aeqNlevBaAn6"
      }
    },
    {
      "cell_type": "code",
      "source": [
        "from langchain.prompts import PromptTemplate"
      ],
      "metadata": {
        "id": "w7oLfzVvJIrK"
      },
      "execution_count": 9,
      "outputs": []
    },
    {
      "cell_type": "code",
      "source": [
        "prompt = PromptTemplate(\n",
        "    input_variables=[\"input\"],\n",
        "    template = \"Which are the 5 most {input} capital cities?\"\n",
        ")"
      ],
      "metadata": {
        "id": "jAeR5an0JcwT"
      },
      "execution_count": 10,
      "outputs": []
    },
    {
      "cell_type": "code",
      "source": [
        "print(prompt.format(input=\"popular\"))"
      ],
      "metadata": {
        "colab": {
          "base_uri": "https://localhost:8080/"
        },
        "id": "jnBacugyKDgw",
        "outputId": "eb12b493-fd55-448b-9e84-2d20143cd0a1"
      },
      "execution_count": 11,
      "outputs": [
        {
          "output_type": "stream",
          "name": "stdout",
          "text": [
            "Which are the 5 most popular capital cities?\n"
          ]
        }
      ]
    },
    {
      "cell_type": "markdown",
      "source": [
        "# Creating Chains"
      ],
      "metadata": {
        "id": "UozkgL4TaJAd"
      }
    },
    {
      "cell_type": "code",
      "source": [
        "from langchain.chains import LLMChain"
      ],
      "metadata": {
        "id": "FmFLhs5aLB5X"
      },
      "execution_count": 12,
      "outputs": []
    },
    {
      "cell_type": "code",
      "source": [
        "llm = OpenAI(temperature=0.7)"
      ],
      "metadata": {
        "id": "BhKV3ZeOLLuE"
      },
      "execution_count": 13,
      "outputs": []
    },
    {
      "cell_type": "code",
      "source": [
        "prompt=PromptTemplate(\n",
        "    input_variables=[\"country\"],\n",
        "    template=\"where is the capital of {country}\"\n",
        ")"
      ],
      "metadata": {
        "id": "fs7oIdqwSKRR"
      },
      "execution_count": 14,
      "outputs": []
    },
    {
      "cell_type": "code",
      "source": [
        "chain = LLMChain(llm=llm, prompt=prompt)"
      ],
      "metadata": {
        "id": "N-j3BRkhSvVA"
      },
      "execution_count": 15,
      "outputs": []
    },
    {
      "cell_type": "code",
      "source": [
        "print(chain.run(\"USA\"))"
      ],
      "metadata": {
        "colab": {
          "base_uri": "https://localhost:8080/"
        },
        "id": "E5k6F7_YS93-",
        "outputId": "e946aef3-ce3d-4442-86cf-d682433d3577"
      },
      "execution_count": 16,
      "outputs": [
        {
          "output_type": "stream",
          "name": "stdout",
          "text": [
            "\n",
            "\n",
            "Washington, D.C. is the capital of the United States of America.\n"
          ]
        }
      ]
    },
    {
      "cell_type": "markdown",
      "source": [
        "# Combining Chains"
      ],
      "metadata": {
        "id": "TbiTlAJ4aMr2"
      }
    },
    {
      "cell_type": "code",
      "source": [
        "llm = OpenAI(temperature=0)"
      ],
      "metadata": {
        "id": "4aTVCQsTTMlk"
      },
      "execution_count": 17,
      "outputs": []
    },
    {
      "cell_type": "code",
      "source": [
        "from langchain.agents import load_tools"
      ],
      "metadata": {
        "id": "0WIvU9iMTds5"
      },
      "execution_count": 18,
      "outputs": []
    },
    {
      "cell_type": "code",
      "source": [
        "!pip install -q google-search-results"
      ],
      "metadata": {
        "id": "zhE5nBzXXMG4"
      },
      "execution_count": 19,
      "outputs": []
    },
    {
      "cell_type": "code",
      "source": [
        "os.environ[\"SERPAPI_API_KEY\"]=\"Your-API-Key\""
      ],
      "metadata": {
        "id": "apWCa-yoXY-o"
      },
      "execution_count": 20,
      "outputs": []
    },
    {
      "cell_type": "code",
      "source": [
        "tools = load_tools([\"serpapi\",\"llm-math\"], llm=llm)"
      ],
      "metadata": {
        "id": "Gr8ZdtBSYA3C"
      },
      "execution_count": 21,
      "outputs": []
    },
    {
      "cell_type": "code",
      "source": [
        "from langchain.agents import initialize_agent\n",
        "from langchain.agents import AgentType"
      ],
      "metadata": {
        "id": "t2mWKkToYTJ-"
      },
      "execution_count": 22,
      "outputs": []
    },
    {
      "cell_type": "code",
      "source": [
        "agent=initialize_agent(tools, llm,\n",
        "                       agent=AgentType.ZERO_SHOT_REACT_DESCRIPTION,\n",
        "                       verbose=True)"
      ],
      "metadata": {
        "id": "Cvn7yshvYfbV"
      },
      "execution_count": 23,
      "outputs": []
    },
    {
      "cell_type": "code",
      "source": [
        "agent.run(\"who is the director of the walking dead series? what is his current age raised to the 0.35 power\")"
      ],
      "metadata": {
        "colab": {
          "base_uri": "https://localhost:8080/",
          "height": 354
        },
        "id": "HLtWXKZ2YvW-",
        "outputId": "b00d82cc-9861-4087-a6b2-3684cca34c92"
      },
      "execution_count": 24,
      "outputs": [
        {
          "output_type": "stream",
          "name": "stderr",
          "text": [
            "WARNING:langchain.callbacks.manager:Error in on_chain_start callback: 'name'\n"
          ]
        },
        {
          "output_type": "stream",
          "name": "stdout",
          "text": [
            "\u001b[32;1m\u001b[1;3m I need to find out who the director is and then calculate his age raised to the 0.35 power\n",
            "Action: Search\n",
            "Action Input: \"director of the walking dead series\"\u001b[0m\n",
            "Observation: \u001b[36;1m\u001b[1;3mDarabont Ferenc, better known as Frank Darabont, is an Academy Award winning Hungarian-American director, screenwriter and producer.\u001b[0m\n",
            "Thought:\u001b[32;1m\u001b[1;3m I need to find out his age\n",
            "Action: Search\n",
            "Action Input: \"Frank Darabont age\"\u001b[0m\n",
            "Observation: \u001b[36;1m\u001b[1;3m64 years\u001b[0m\n",
            "Thought:\u001b[32;1m\u001b[1;3m I need to calculate his age raised to the 0.35 power\n",
            "Action: Calculator\n",
            "Action Input: 64^0.35\u001b[0m\n",
            "Observation: \u001b[33;1m\u001b[1;3mAnswer: 4.2870938501451725\u001b[0m\n",
            "Thought:\u001b[32;1m\u001b[1;3m I now know the final answer\n",
            "Final Answer: Frank Darabont is 64 years old and his age raised to the 0.35 power is 4.2870938501451725.\u001b[0m\n",
            "\n",
            "\u001b[1m> Finished chain.\u001b[0m\n"
          ]
        },
        {
          "output_type": "execute_result",
          "data": {
            "text/plain": [
              "'Frank Darabont is 64 years old and his age raised to the 0.35 power is 4.2870938501451725.'"
            ],
            "application/vnd.google.colaboratory.intrinsic+json": {
              "type": "string"
            }
          },
          "metadata": {},
          "execution_count": 24
        }
      ]
    },
    {
      "cell_type": "markdown",
      "source": [
        "Thanks for reading.\n",
        "\n",
        "Let's connect [YouTube](http://youtube.com/tirendazacademy) | [Medium](http://tirendazacademy.medium.com) | [Twitter](http://twitter.com/tirendazacademy) | [Linkedin](https://www.linkedin.com/in/tirendaz-academy)"
      ],
      "metadata": {
        "id": "ZvhoWvMCaPh8"
      }
    }
  ]
}