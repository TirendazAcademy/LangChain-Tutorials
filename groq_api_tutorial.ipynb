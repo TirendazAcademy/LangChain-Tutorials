{
  "nbformat": 4,
  "nbformat_minor": 0,
  "metadata": {
    "colab": {
      "provenance": [],
      "authorship_tag": "ABX9TyNVTMWvymnGFZoDSgRjd6ZQ",
      "include_colab_link": true
    },
    "kernelspec": {
      "name": "python3",
      "display_name": "Python 3"
    },
    "language_info": {
      "name": "python"
    }
  },
  "cells": [
    {
      "cell_type": "markdown",
      "metadata": {
        "id": "view-in-github",
        "colab_type": "text"
      },
      "source": [
        "<a href=\"https://colab.research.google.com/github/TirendazAcademy/LangChain-Tutorials/blob/main/groq_api_tutorial.ipynb\" target=\"_parent\"><img src=\"https://colab.research.google.com/assets/colab-badge.svg\" alt=\"Open In Colab\"/></a>"
      ]
    },
    {
      "cell_type": "code",
      "execution_count": 1,
      "metadata": {
        "id": "d_pvDMrgq0IP"
      },
      "outputs": [],
      "source": [
        "!pip install -q -U langchain langchain_core langchain_groq gradio"
      ]
    },
    {
      "cell_type": "code",
      "source": [
        "from google.colab import userdata\n",
        "groq_api_key = userdata.get('GROQ_API_KEY')"
      ],
      "metadata": {
        "id": "1BBWBEFc0G9J"
      },
      "execution_count": 2,
      "outputs": []
    },
    {
      "cell_type": "code",
      "source": [
        "from langchain_groq import ChatGroq\n",
        "\n",
        "chat = ChatGroq(\n",
        "    api_key = groq_api_key,\n",
        "    model_name = \"mixtral-8x7b-32768\"\n",
        ")"
      ],
      "metadata": {
        "id": "vPfbfzOC1qE8"
      },
      "execution_count": 3,
      "outputs": []
    },
    {
      "cell_type": "code",
      "source": [
        "from langchain_core.prompts import ChatPromptTemplate\n",
        "\n",
        "system = \"You are a helpful assistant.\"\n",
        "human = \"{text}\"\n",
        "\n",
        "prompt = ChatPromptTemplate.from_messages(\n",
        "    [\n",
        "        (\"system\", system), (\"human\", human)\n",
        "    ]\n",
        ")"
      ],
      "metadata": {
        "id": "3VIDCzMm3Yh3"
      },
      "execution_count": 4,
      "outputs": []
    },
    {
      "cell_type": "code",
      "source": [
        "from langchain_core.output_parsers import StrOutputParser"
      ],
      "metadata": {
        "id": "4PajMIZS3w3B"
      },
      "execution_count": 5,
      "outputs": []
    },
    {
      "cell_type": "code",
      "source": [
        "chain = prompt | chat | StrOutputParser()"
      ],
      "metadata": {
        "id": "VtpYCfMW35Wr"
      },
      "execution_count": 6,
      "outputs": []
    },
    {
      "cell_type": "code",
      "source": [
        "chain.invoke(\n",
        "    {\"text\":\"Why is the sky blue?\"}\n",
        ")"
      ],
      "metadata": {
        "colab": {
          "base_uri": "https://localhost:8080/",
          "height": 106
        },
        "id": "Q_r5ofV04adl",
        "outputId": "cc029596-a6ea-4126-ebfc-5134b27e21fa"
      },
      "execution_count": 7,
      "outputs": [
        {
          "output_type": "execute_result",
          "data": {
            "text/plain": [
              "\"The phenomenon that causes the sky to appear blue is known as Rayleigh scattering. As sunlight reaches Earth's atmosphere, it is made up of different colors, which are essentially different wavelengths of light. Shorter wavelengths (like blue and violet) are scattered in all directions more than longer wavelengths (like red, orange, and yellow).\\n\\nEven though violet light is scattered more than blue light, the sky appears blue, not violet, because our eyes are more sensitive to blue light and because sunlight reaches us more at the blue part of the spectrum, rather than the violet part. Additionally, some of the violet light gets absorbed by the ozone layer in the atmosphere. This combination results in the sky we typically observe as blue.\""
            ],
            "application/vnd.google.colaboratory.intrinsic+json": {
              "type": "string"
            }
          },
          "metadata": {},
          "execution_count": 7
        }
      ]
    },
    {
      "cell_type": "code",
      "source": [
        "import gradio as gr"
      ],
      "metadata": {
        "id": "xJFwzG9p4fDK"
      },
      "execution_count": 8,
      "outputs": []
    },
    {
      "cell_type": "code",
      "source": [
        "def fetch_response(user_input):\n",
        "  chat = ChatGroq(\n",
        "    api_key = groq_api_key,\n",
        "    model_name = \"mixtral-8x7b-32768\"\n",
        "  )\n",
        "  system = \"You are a helpful assistant.\"\n",
        "  human = \"{text}\"\n",
        "\n",
        "  prompt = ChatPromptTemplate.from_messages(\n",
        "      [\n",
        "          (\"system\", system), (\"human\", human)\n",
        "      ]\n",
        "  )\n",
        "  chain = prompt | chat | StrOutputParser()\n",
        "  output = chain.invoke({\"text\": user_input})\n",
        "  return output"
      ],
      "metadata": {
        "id": "cgf7Uvaw5wfg"
      },
      "execution_count": 9,
      "outputs": []
    },
    {
      "cell_type": "code",
      "source": [
        "user_input = \"Why is the sky blue?\"\n",
        "\n",
        "fetch_response(user_input)"
      ],
      "metadata": {
        "colab": {
          "base_uri": "https://localhost:8080/",
          "height": 106
        },
        "id": "UYPZSCJW6sNE",
        "outputId": "da48cc76-0925-4aa1-806a-0877328dafef"
      },
      "execution_count": 10,
      "outputs": [
        {
          "output_type": "execute_result",
          "data": {
            "text/plain": [
              "\"The phenomenon that causes the sky to appear blue is known as Rayleigh scattering. As sunlight reaches Earth's atmosphere, it is made up of different colors, which are represented in the light spectrum as having different wavelengths. Blue and violet light have the shortest wavelengths and are scattered in all directions by the gas molecules in Earth's atmosphere. \\n\\nThis scattered blue and violet light reaches our eyes from all directions, giving the sky its blue appearance. You might wonder why we don't see a violet sky, given that violet light is scattered more than blue light. This is because our eyes are more sensitive to blue light and because sunlight reaches us with less violet light to begin with. Additionally, some of the violet light gets absorbed by the ozone layer in the atmosphere. Therefore, the sky appears blue to us during the daytime.\""
            ],
            "application/vnd.google.colaboratory.intrinsic+json": {
              "type": "string"
            }
          },
          "metadata": {},
          "execution_count": 10
        }
      ]
    },
    {
      "cell_type": "code",
      "source": [
        "iface = gr.Interface(\n",
        "    fn = fetch_response,\n",
        "    inputs = \"text\",\n",
        "    outputs = \"text\",\n",
        "    title = \"Groq Chatbot\",\n",
        "    description=\"Ask a question and get a response.\"\n",
        ")"
      ],
      "metadata": {
        "id": "sSmvFUjL67SK"
      },
      "execution_count": 11,
      "outputs": []
    },
    {
      "cell_type": "code",
      "source": [
        "iface.launch()"
      ],
      "metadata": {
        "colab": {
          "base_uri": "https://localhost:8080/",
          "height": 627
        },
        "id": "Y0JVF_zB7fl8",
        "outputId": "7aeccd71-31de-4853-b5db-3923a79913af"
      },
      "execution_count": 12,
      "outputs": [
        {
          "output_type": "stream",
          "name": "stdout",
          "text": [
            "Setting queue=True in a Colab notebook requires sharing enabled. Setting `share=True` (you can turn this off by setting `share=False` in `launch()` explicitly).\n",
            "\n",
            "Colab notebook detected. To show errors in colab notebook, set debug=True in launch()\n",
            "Running on public URL: https://ba64a37776f78dbb6a.gradio.live\n",
            "\n",
            "This share link expires in 72 hours. For free permanent hosting and GPU upgrades, run `gradio deploy` from Terminal to deploy to Spaces (https://huggingface.co/spaces)\n"
          ]
        },
        {
          "output_type": "display_data",
          "data": {
            "text/plain": [
              "<IPython.core.display.HTML object>"
            ],
            "text/html": [
              "<div><iframe src=\"https://ba64a37776f78dbb6a.gradio.live\" width=\"100%\" height=\"500\" allow=\"autoplay; camera; microphone; clipboard-read; clipboard-write;\" frameborder=\"0\" allowfullscreen></iframe></div>"
            ]
          },
          "metadata": {}
        },
        {
          "output_type": "execute_result",
          "data": {
            "text/plain": []
          },
          "metadata": {},
          "execution_count": 12
        }
      ]
    },
    {
      "cell_type": "markdown",
      "source": [
        "Let's connect [YouTube](http://youtube.com/tirendazacademy) | [Medium](http://tirendazacademy.medium.com) | [X](http://x.com/tirendazacademy) | [Linkedin](https://www.linkedin.com/in/tirendaz-academy) 😎"
      ],
      "metadata": {
        "id": "y08h2aQU--Ya"
      }
    }
  ]
}